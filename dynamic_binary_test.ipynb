{
 "cells": [
  {
   "cell_type": "code",
   "execution_count": 30,
   "metadata": {},
   "outputs": [
    {
     "name": "stdout",
     "output_type": "stream",
     "text": [
      "1.0\n"
     ]
    }
   ],
   "source": [
    "# This code evaluates a policy for a sequence of trials \n",
    "# where the true choice does not change across trials. \n",
    "# The beliefs are not normative, but are defined arbitrarily,\n",
    "# and are related to the reward via an arbitrary logit function.\n",
    "\n",
    "# The second part can use the evaluation to find the optimal \n",
    "# policy in a finite sequence of trials. \n",
    "\n",
    "\n",
    "\n",
    "import numpy as np\n",
    "import math \n",
    "from matplotlib import pyplot as plt\n",
    "import seaborn as sns\n",
    "\n",
    "#Define the number of trials and belief states.\n",
    "trials = 5\n",
    "num_states = 10\n",
    "\n",
    "#Define tolerance\n",
    "theta = 0.0000001\n",
    "\n",
    "#other parameters\n",
    "alpha = 1.0\n",
    "\n",
    "#cost of observation\n",
    "cost = 0.02\n",
    "\n",
    "#transtition probability\n",
    "up = 0.4\n",
    "\n",
    "\n",
    "states = np.arange(-10,10.1,20/num_states)\n",
    "\n",
    "initial_action = np.ones([num_states,trials])\n",
    "\n",
    "print(initial_action[0,1])\n",
    "\n",
    "def reward_probability(belief):\n",
    "    p = 1/(1+math.exp(-alpha*belief))\n",
    "    return p\n",
    "\n",
    "def transition_probability(sign):\n",
    "    if sign == 1:\n",
    "        return up\n",
    "    if sign == -1:\n",
    "        return 1-up\n",
    "\n",
    "\n",
    "value = np.zeros([num_states,trials])\n",
    "              "
   ]
  },
  {
   "cell_type": "code",
   "execution_count": 31,
   "metadata": {},
   "outputs": [
    {
     "data": {
      "image/png": "[encoded data removed]",
      "text/plain": [
       "<Figure size 432x288 with 2 Axes>"
      ]
     },
     "metadata": {
      "needs_background": "light"
     },
     "output_type": "display_data"
    },
    {
     "data": {
      "image/png": "[encoded data removed]",
      "text/plain": [
       "<Figure size 432x288 with 2 Axes>"
      ]
     },
     "metadata": {
      "needs_background": "light"
     },
     "output_type": "display_data"
    },
    {
     "name": "stdout",
     "output_type": "stream",
     "text": [
      "[[-0.08462497 -0.07353189 -0.05781123 -0.03933528 -0.01983862  0.        ]\n",
      " [-0.05239677 -0.05166802 -0.04751633 -0.03592861 -0.01898371  0.        ]\n",
      " [ 0.05958514  0.02676521  0.00500607 -0.01232864 -0.01260431  0.        ]\n",
      " [ 0.34418477  0.25797565  0.16969828  0.09791885  0.02916474  0.        ]\n",
      " [ 0.93456396  0.74740225  0.56451817  0.36982681  0.19079173  0.        ]\n",
      " [ 1.78409039  1.47246711  1.13697889  0.78743783  0.40384058  0.        ]\n",
      " [ 2.80024321  2.32952115  1.82478908  1.27810555  0.67280552  0.        ]\n",
      " [ 3.74183756  3.10989356  2.43632075  1.69880216  0.9074892   0.        ]\n",
      " [ 4.35517078  3.59158918  2.7688273   1.90492057  0.96907413  0.        ]\n",
      " [ 4.6534963   3.80040127  2.9018065   1.95117968  0.97838229  0.        ]]\n"
     ]
    },
    {
     "data": {
      "image/png": "[encoded data removed]",
      "text/plain": [
       "<Figure size 432x288 with 2 Axes>"
      ]
     },
     "metadata": {
      "needs_background": "light"
     },
     "output_type": "display_data"
    },
    {
     "data": {
      "image/png": "[encoded data removed]",
      "text/plain": [
       "<Figure size 432x288 with 2 Axes>"
      ]
     },
     "metadata": {
      "needs_background": "light"
     },
     "output_type": "display_data"
    }
   ],
   "source": [
    "# This is the evaluation with no discounting and no change between trials\n",
    "\n",
    "def evaluate(action,states):\n",
    "    #Initialize values. The value of the last trial is zero, because that is a terminal, non-rewarding state. \n",
    "    value = np.zeros([num_states,trials+1])\n",
    "    value[num_states-1,trials-1] = 0\n",
    "    \n",
    "    #Implement policy evaluation\n",
    "    Delta = 1\n",
    "   \n",
    "    n = 1\n",
    "    while Delta > theta:\n",
    "        Delta = 0\n",
    "        for j in range(trials):\n",
    "            for i in range(num_states):          \n",
    "                val = value[i,j]\n",
    "                if action[i,j] == 0:\n",
    "                    value[i,j] = reward_probability(states[i]) + value[i,j+1]\n",
    "                elif i == 0:\n",
    "                    value[i,j] = transition_probability(1)*(reward_probability(states[i+1]) + value[i+1,j+1] - cost) + \\\n",
    "                                 transition_probability(-1)*(reward_probability(states[i]) + value[i,j+1] - cost)\n",
    "                elif i == num_states-1:\n",
    "                    value[i,j] = transition_probability(1)*(reward_probability(states[i]) + value[i,j+1] - cost) + \\\n",
    "                                 transition_probability(-1)*(reward_probability(states[i-1]) + value[i-1,j+1] - cost)\n",
    "                else:\n",
    "                    value[i,j] = transition_probability(1)*(reward_probability(states[i+1]) + value[i+1,j+1] - cost) + \\\n",
    "                                 transition_probability(-1)*(reward_probability(states[i-1]) + value[i-1,j+1] - cost)\n",
    "                Delta = max(Delta,abs(val - value[i,j])) \n",
    "    return value\n",
    "\n",
    "\n",
    "def maximize(action,i,j,value=None):\n",
    "    if value is None:\n",
    "        value = np.zeros([num_states,trials+1])\n",
    "    \n",
    "    current_action = action[i,j]\n",
    "    \n",
    "    #evaluate alternative\n",
    "    if current_action == 1:\n",
    "            value_alternative = reward_probability(states[i]) + value[i,j+1]\n",
    "    elif i == 0:\n",
    "            value_alternative = transition_probability(1)*(reward_probability(states[i+1]) + value[i+1,j+1] - cost) + \\\n",
    "                                 transition_probability(-1)*(reward_probability(states[i]) + value[i,j+1] - cost)\n",
    "    elif i == num_states-1:\n",
    "            value_alternative = transition_probability(1)*(reward_probability(states[i]) + value[i,j+1] - cost) + \\\n",
    "                                 transition_probability(-1)*(reward_probability(states[i-1]) + value[i-1,j+1] - cost)\n",
    "    else:\n",
    "            value_alternative = transition_probability(1)*(reward_probability(states[i+1]) + value[i+1,j+1] - cost) + \\\n",
    "                                 transition_probability(-1)*(reward_probability(states[i-1]) + value[i-1,j+1] - cost)\n",
    "    \n",
    "    if value_alternative > value[i,j]:\n",
    "            #Flip action if not the best through modding by 1\n",
    "            current_action = (current_action+1)%1\n",
    "    return current_action\n",
    "\n",
    "def improve(action,value=None):\n",
    "    if value is None:\n",
    "        value = np.zeros([num_states,trials+1])\n",
    "    \n",
    "    stable = 1\n",
    "    for j in range(trials-1):\n",
    "            for i in range(num_states):\n",
    "                old_action = action[i,j]\n",
    "                action[i,j] = maximize(action,i,j,value)\n",
    "                if old_action != action[i,j]:\n",
    "                    stable = 0\n",
    "    return action,stable\n",
    "\n",
    "\n",
    "def best_action(initial_action,states=None):\n",
    "    states =  np.arange(-10,10.1,20/num_states)\n",
    "    \n",
    "    stable = 0\n",
    "    action = initial_action\n",
    "    while stable == 0:\n",
    "        value = evaluate(action,states)  \n",
    "        action,stable = improve(action,value)\n",
    "    return action, value\n",
    "\n",
    "\n",
    "action = initial_action\n",
    "value = evaluate(action,states)\n",
    "\n",
    "ax = sns.heatmap(value, linewidth=0.5)\n",
    "plt.show()\n",
    "\n",
    "act = sns.heatmap(action, linewidth=0.5)\n",
    "plt.show()\n",
    "\n",
    "\n",
    "print(value)\n",
    "\n",
    "action,value = best_action(action,value)\n",
    "\n",
    "\n",
    "ax = sns.heatmap(value, linewidth=0.5)\n",
    "plt.show()\n",
    "\n",
    "act = sns.heatmap(action, linewidth=0.5)\n",
    "plt.show()\n",
    "\n"
   ]
  },
  {
   "cell_type": "code",
   "execution_count": 134,
   "metadata": {},
   "outputs": [
    {
     "name": "stdout",
     "output_type": "stream",
     "text": [
      "0.36039186151593094\n",
      "[[-0.55894288 -0.52601002 -0.4921986  -0.45436965 -0.41494231 -0.36822661\n",
      "  -0.31859872 -0.25595189 -0.18794714 -0.09922643  0.        ]\n",
      " [-0.33059886 -0.30503143 -0.27414854 -0.24971137 -0.215612   -0.19319083\n",
      "  -0.15327024 -0.13401988 -0.08387486 -0.06420734  0.        ]\n",
      " [ 0.31918429  0.33938501  0.34571647  0.36039186  0.34985199  0.35451323\n",
      "   0.31345206  0.30034478  0.2058349   0.16596996  0.        ]\n",
      " [ 1.23006372  1.22245442  1.21773009  1.18181488  1.15116768  1.06371871\n",
      "   0.98610812  0.80432005  0.64362408  0.28270026  0.        ]\n",
      " [ 2.38132822  2.36597987  2.32584212  2.27585177  2.18072743  2.06769387\n",
      "   1.87200671  1.64388838  1.2584512   0.81581617  0.        ]]\n"
     ]
    }
   ],
   "source": [
    "i = 2\n",
    "j = 3\n",
    "\n",
    "print(value[i,j])\n",
    "\n",
    "value[i,j] = transition_probability(1)*(reward_probability(states[i+1]) + value[i+1,j+1] - cost) + \\\n",
    "                                 transition_probability(-1)*(reward_probability(states[i-1]) + value[i-1,j+1] - cost)\n",
    "    \n",
    "print(value)"
   ]
  },
  {
   "cell_type": "code",
   "execution_count": 145,
   "metadata": {},
   "outputs": [
    {
     "data": {
      "text/plain": [
       "0"
      ]
     },
     "execution_count": 145,
     "metadata": {},
     "output_type": "execute_result"
    }
   ],
   "source": [
    "(1+1)%1"
   ]
  },
  {
   "cell_type": "code",
   "execution_count": 23,
   "metadata": {},
   "outputs": [
    {
     "data": {
      "text/plain": [
       "1"
      ]
     },
     "execution_count": 23,
     "metadata": {},
     "output_type": "execute_result"
    }
   ],
   "source": [
    "np.absolute(-1)"
   ]
  },
  {
   "cell_type": "code",
   "execution_count": null,
   "metadata": {},
   "outputs": [],
   "source": []
  }
 ],
 "metadata": {
  "kernelspec": {
   "display_name": "Python 3",
   "language": "python",
   "name": "python3"
  },
  "language_info": {
   "codemirror_mode": {
    "name": "ipython",
    "version": 3
   },
   "file_extension": ".py",
   "mimetype": "text/x-python",
   "name": "python",
   "nbconvert_exporter": "python",
   "pygments_lexer": "ipython3",
   "version": "3.7.3"
  }
 },
 "nbformat": 4,
 "nbformat_minor": 2
}

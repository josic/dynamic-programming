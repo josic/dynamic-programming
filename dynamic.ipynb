{
 "cells": [
  {
   "cell_type": "code",
   "execution_count": 25,
   "metadata": {},
   "outputs": [
    {
     "name": "stdout",
     "output_type": "stream",
     "text": [
      "3.8472978603872034\n"
     ]
    },
    {
     "data": {
      "text/plain": [
       "(9, 4.0)"
      ]
     },
     "execution_count": 25,
     "metadata": {},
     "output_type": "execute_result"
    }
   ],
   "source": [
    "import numpy as np\n",
    "import math \n",
    "from matplotlib import pyplot as plt\n",
    "import seaborn as sns\n",
    "\n",
    "#Define the number of trials and belief states.\n",
    "trials = 5\n",
    "\n",
    "#range of belief space and number of states\n",
    "num_states = 10\n",
    "max_range = 5\n",
    "min_range = -5\n",
    "\n",
    "#Define tolerance\n",
    "theta = 0.0000001\n",
    "\n",
    "#transition probability\n",
    "alpha = 0\n",
    "\n",
    "#probability of getting a positive signal when environment is up.\n",
    "#Should be greater than 0.5\n",
    "pr = 0.7\n",
    "\n",
    "#log likelihood increment after making an observation. Could be positive or negative.\n",
    "Delta = math.log(pr/(1-pr))\n",
    "\n",
    "#cost of observation\n",
    "cost = 0.02\n",
    "\n",
    "#transtition probability\n",
    "up = 0.4\n",
    "\n",
    "\n",
    "states = np.arange(min_range,max_range+0.01,(max_range-min_range)/num_states)\n",
    "\n",
    "initial_action = np.ones([num_states,trials])\n",
    "\n",
    "#Function to find the \n",
    "def find_nearest(array, value):\n",
    "    array = np.asarray(array)\n",
    "    idx = (np.abs(array - value)).argmin()\n",
    "    return idx,array[idx]\n",
    "\n",
    "def reward_probability(belief):\n",
    "    p = math.exp(belief)/(1+math.exp(belief))\n",
    "    return p\n",
    "\n",
    "def transition_probability(belief,sign):\n",
    "    transition = (pr+(1-pr)*math.exp(-belief))/(1+math.exp(-belief))\n",
    "    if sign == 1:\n",
    "        return transition\n",
    "    elif sign == -1:\n",
    "        return 1-transition\n",
    "    else:\n",
    "        print(\"Illegal call\")\n",
    "    \n",
    "def new_state(belief,sign):\n",
    "    if sign == 1:\n",
    "        new_belief = math.log((alpha+(1-alpha)*math.exp(belief+Delta))/(alpha*math.exp(belief+Delta)+(1-alpha)))\n",
    "        print(new_belief)\n",
    "        return find_nearest(states,new_belief)\n",
    "    elif sign == -1:\n",
    "        new_belief = math.log((alpha+(1-alpha)*math.exp(belief-Delta))/(alpha*math.exp(belief-Delta)+(1-alpha)))\n",
    "        return find_nearest(states,new_belief)\n",
    "    else:\n",
    "        print(\"Illegal call\")\n",
    "              "
   ]
  },
  {
   "cell_type": "code",
   "execution_count": 28,
   "metadata": {},
   "outputs": [
    {
     "name": "stdout",
     "output_type": "stream",
     "text": [
      "-4.1527021396127966\n",
      "-3.1527021396127966\n",
      "-2.1527021396127966\n",
      "-1.1527021396127966\n",
      "-0.15270213961279652\n",
      "0.8472978603872034\n",
      "1.8472978603872034\n",
      "2.8472978603872034\n",
      "3.8472978603872034\n",
      "4.8472978603872034\n"
     ]
    },
    {
     "ename": "IndexError",
     "evalue": "index 10 is out of bounds for axis 0 with size 10",
     "output_type": "error",
     "traceback": [
      "\u001b[0;31m---------------------------------------------------------------------------\u001b[0m",
      "\u001b[0;31mIndexError\u001b[0m                                Traceback (most recent call last)",
      "\u001b[0;32m<ipython-input-28-2afcf13eac7c>\u001b[0m in \u001b[0;36m<module>\u001b[0;34m\u001b[0m\n\u001b[1;32m     77\u001b[0m \u001b[0;34m\u001b[0m\u001b[0m\n\u001b[1;32m     78\u001b[0m \u001b[0maction\u001b[0m \u001b[0;34m=\u001b[0m \u001b[0minitial_action\u001b[0m\u001b[0;34m\u001b[0m\u001b[0;34m\u001b[0m\u001b[0m\n\u001b[0;32m---> 79\u001b[0;31m \u001b[0mvalue\u001b[0m \u001b[0;34m=\u001b[0m \u001b[0mevaluate\u001b[0m\u001b[0;34m(\u001b[0m\u001b[0maction\u001b[0m\u001b[0;34m,\u001b[0m\u001b[0mstates\u001b[0m\u001b[0;34m)\u001b[0m\u001b[0;34m\u001b[0m\u001b[0;34m\u001b[0m\u001b[0m\n\u001b[0m\u001b[1;32m     80\u001b[0m \u001b[0;34m\u001b[0m\u001b[0m\n\u001b[1;32m     81\u001b[0m \u001b[0max\u001b[0m \u001b[0;34m=\u001b[0m \u001b[0msns\u001b[0m\u001b[0;34m.\u001b[0m\u001b[0mheatmap\u001b[0m\u001b[0;34m(\u001b[0m\u001b[0mvalue\u001b[0m\u001b[0;34m,\u001b[0m \u001b[0mlinewidth\u001b[0m\u001b[0;34m=\u001b[0m\u001b[0;36m0.5\u001b[0m\u001b[0;34m)\u001b[0m\u001b[0;34m\u001b[0m\u001b[0;34m\u001b[0m\u001b[0m\n",
      "\u001b[0;32m<ipython-input-28-2afcf13eac7c>\u001b[0m in \u001b[0;36mevaluate\u001b[0;34m(action, states)\u001b[0m\n\u001b[1;32m     22\u001b[0m                     \u001b[0mindex_p\u001b[0m\u001b[0;34m,\u001b[0m \u001b[0mstatep\u001b[0m \u001b[0;34m=\u001b[0m \u001b[0mnew_state\u001b[0m\u001b[0;34m(\u001b[0m\u001b[0mstates\u001b[0m\u001b[0;34m[\u001b[0m\u001b[0mi\u001b[0m\u001b[0;34m]\u001b[0m\u001b[0;34m,\u001b[0m\u001b[0;36m1\u001b[0m\u001b[0;34m)\u001b[0m\u001b[0;34m\u001b[0m\u001b[0;34m\u001b[0m\u001b[0m\n\u001b[1;32m     23\u001b[0m                     \u001b[0mindex_n\u001b[0m\u001b[0;34m,\u001b[0m \u001b[0mstaten\u001b[0m \u001b[0;34m=\u001b[0m \u001b[0mnew_state\u001b[0m\u001b[0;34m(\u001b[0m\u001b[0mstates\u001b[0m\u001b[0;34m[\u001b[0m\u001b[0mi\u001b[0m\u001b[0;34m]\u001b[0m\u001b[0;34m,\u001b[0m\u001b[0;34m-\u001b[0m\u001b[0;36m1\u001b[0m\u001b[0;34m)\u001b[0m\u001b[0;34m\u001b[0m\u001b[0;34m\u001b[0m\u001b[0m\n\u001b[0;32m---> 24\u001b[0;31m                     \u001b[0mvalue\u001b[0m\u001b[0;34m[\u001b[0m\u001b[0mi\u001b[0m\u001b[0;34m,\u001b[0m\u001b[0mj\u001b[0m\u001b[0;34m]\u001b[0m \u001b[0;34m=\u001b[0m \u001b[0mpp\u001b[0m\u001b[0;34m*\u001b[0m\u001b[0;34m(\u001b[0m\u001b[0mreward_probability\u001b[0m\u001b[0;34m(\u001b[0m\u001b[0mnp\u001b[0m\u001b[0;34m.\u001b[0m\u001b[0mabsolute\u001b[0m\u001b[0;34m(\u001b[0m\u001b[0mstatep\u001b[0m \u001b[0;34m+\u001b[0m \u001b[0mvalue\u001b[0m\u001b[0;34m[\u001b[0m\u001b[0mindex_p\u001b[0m\u001b[0;34m,\u001b[0m\u001b[0mj\u001b[0m\u001b[0;34m+\u001b[0m\u001b[0;36m1\u001b[0m\u001b[0;34m]\u001b[0m \u001b[0;34m-\u001b[0m \u001b[0mcost\u001b[0m\u001b[0;34m)\u001b[0m\u001b[0;34m)\u001b[0m\u001b[0;34m)\u001b[0m \u001b[0;34m+\u001b[0m\u001b[0;31m \u001b[0m\u001b[0;31m\\\u001b[0m\u001b[0;34m\u001b[0m\u001b[0;34m\u001b[0m\u001b[0m\n\u001b[0m\u001b[1;32m     25\u001b[0m                                  \u001b[0mpn\u001b[0m\u001b[0;34m*\u001b[0m\u001b[0;34m(\u001b[0m\u001b[0mreward_probability\u001b[0m\u001b[0;34m(\u001b[0m\u001b[0mnp\u001b[0m\u001b[0;34m.\u001b[0m\u001b[0mabsolute\u001b[0m\u001b[0;34m(\u001b[0m\u001b[0mstaten\u001b[0m \u001b[0;34m+\u001b[0m \u001b[0mvalue\u001b[0m\u001b[0;34m[\u001b[0m\u001b[0mindex_n\u001b[0m\u001b[0;34m,\u001b[0m\u001b[0mj\u001b[0m\u001b[0;34m+\u001b[0m\u001b[0;36m1\u001b[0m\u001b[0;34m]\u001b[0m \u001b[0;34m-\u001b[0m \u001b[0mcost\u001b[0m\u001b[0;34m)\u001b[0m\u001b[0;34m)\u001b[0m\u001b[0;34m)\u001b[0m\u001b[0;34m\u001b[0m\u001b[0;34m\u001b[0m\u001b[0m\n\u001b[1;32m     26\u001b[0m                 \u001b[0mDelta\u001b[0m \u001b[0;34m=\u001b[0m \u001b[0mmax\u001b[0m\u001b[0;34m(\u001b[0m\u001b[0mDelta\u001b[0m\u001b[0;34m,\u001b[0m\u001b[0mabs\u001b[0m\u001b[0;34m(\u001b[0m\u001b[0mval\u001b[0m \u001b[0;34m-\u001b[0m \u001b[0mvalue\u001b[0m\u001b[0;34m[\u001b[0m\u001b[0mi\u001b[0m\u001b[0;34m,\u001b[0m\u001b[0mj\u001b[0m\u001b[0;34m]\u001b[0m\u001b[0;34m)\u001b[0m\u001b[0;34m)\u001b[0m\u001b[0;34m\u001b[0m\u001b[0;34m\u001b[0m\u001b[0m\n",
      "\u001b[0;31mIndexError\u001b[0m: index 10 is out of bounds for axis 0 with size 10"
     ]
    }
   ],
   "source": [
    "# This is the evaluation with no discounting and no change between trials\n",
    "\n",
    "def evaluate(action,states):\n",
    "    #Initialize values. The value of the last trial is zero, becuase that is a terminal, non-rewarding state. \n",
    "    value = np.zeros([num_states,trials+1])\n",
    "    value[num_states-1,trials-1] = 0\n",
    "    \n",
    "    #Implement policy evaluation\n",
    "    Delta = 1\n",
    "   \n",
    "    n = 1\n",
    "    while Delta > theta:\n",
    "        Delta = 0\n",
    "        for j in range(trials):\n",
    "            for i in range(num_states):          \n",
    "                val = value[i,j]\n",
    "                if action[i,j] == 0:\n",
    "                    value[i,j] = reward_probability(np.absolute(states[i])) + value[i,j+1]\n",
    "                else:\n",
    "                    pp = transition_probability(states[i],1)\n",
    "                    pn = transition_probability(states[i],-1)\n",
    "                    index_p, statep = new_state(states[i],1)\n",
    "                    index_n, staten = new_state(states[i],-1)\n",
    "                    value[i,j] = pp*(reward_probability(np.absolute(statep + value[index_p,j+1] - cost))) + \\\n",
    "                                 pn*(reward_probability(np.absolute(staten + value[index_n,j+1] - cost)))\n",
    "                Delta = max(Delta,abs(val - value[i,j])) \n",
    "    return value\n",
    "\n",
    "\n",
    "def maximize(action,i,j,value=None):\n",
    "    if value is None:\n",
    "        value = np.zeros([num_states,trials+1])\n",
    "    \n",
    "    current_action = action[i,j]\n",
    "    \n",
    "    #evaluate alternative\n",
    "    if current_action == 1:\n",
    "            value_alternative = reward_probability(np.absolute(states[i])) + value[i,j+1]\n",
    "\n",
    "    else:\n",
    "            pp = transition_probability(states[i],1)\n",
    "            pn = transition_probability(states[i],-1)\n",
    "            index_p, statep = new_state(states[i],1)\n",
    "            index_n, staten = new_state(states[i],-1)\n",
    "            value_alternative = pp*(reward_probability(np.absolute(statep + value[index_p,j+1] - cost))) + \\\n",
    "                                pn*(reward_probability(np.absolute(staten + value[index_n,j+1] - cost)))\n",
    "    \n",
    "    if value_alternative > value[i,j]:\n",
    "            #Flip action if not the best through modding by 1\n",
    "            current_action = (current_action+1)%1\n",
    "    return current_action\n",
    "\n",
    "def improve(action,value=None):\n",
    "    if value is None:\n",
    "        value = np.zeros([num_states,trials+1])\n",
    "    \n",
    "    stable = 1\n",
    "    for j in range(trials-1):\n",
    "            for i in range(num_states):\n",
    "                old_action = action[i,j]\n",
    "                action[i,j] = maximize(action,i,j,value)\n",
    "                if old_action != action[i,j]:\n",
    "                    stable = 0\n",
    "    return action,stable\n",
    "\n",
    "\n",
    "def best_action(initial_action,states=None):\n",
    "    states =  np.arange(-10,10.1,20/num_states)\n",
    "    \n",
    "    stable = 0\n",
    "    action = initial_action\n",
    "    while stable == 0:\n",
    "        value = evaluate(action,states)  \n",
    "        action,stable = improve(action,value)\n",
    "    return action, value\n",
    "\n",
    "\n",
    "action = initial_action\n",
    "value = evaluate(action,states)\n",
    "\n",
    "ax = sns.heatmap(value, linewidth=0.5)\n",
    "plt.show()\n",
    "\n",
    "act = sns.heatmap(action, linewidth=0.5)\n",
    "plt.show()\n",
    "\n",
    "\n",
    "print(value)\n",
    "\n",
    "action,value = best_action(action,value)\n",
    "\n",
    "\n",
    "ax = sns.heatmap(value, linewidth=0.5)\n",
    "plt.show()\n",
    "\n",
    "act = sns.heatmap(action, linewidth=0.5)\n",
    "plt.show()\n",
    "\n"
   ]
  },
  {
   "cell_type": "code",
   "execution_count": 134,
   "metadata": {},
   "outputs": [
    {
     "name": "stdout",
     "output_type": "stream",
     "text": [
      "0.36039186151593094\n",
      "[[-0.55894288 -0.52601002 -0.4921986  -0.45436965 -0.41494231 -0.36822661\n",
      "  -0.31859872 -0.25595189 -0.18794714 -0.09922643  0.        ]\n",
      " [-0.33059886 -0.30503143 -0.27414854 -0.24971137 -0.215612   -0.19319083\n",
      "  -0.15327024 -0.13401988 -0.08387486 -0.06420734  0.        ]\n",
      " [ 0.31918429  0.33938501  0.34571647  0.36039186  0.34985199  0.35451323\n",
      "   0.31345206  0.30034478  0.2058349   0.16596996  0.        ]\n",
      " [ 1.23006372  1.22245442  1.21773009  1.18181488  1.15116768  1.06371871\n",
      "   0.98610812  0.80432005  0.64362408  0.28270026  0.        ]\n",
      " [ 2.38132822  2.36597987  2.32584212  2.27585177  2.18072743  2.06769387\n",
      "   1.87200671  1.64388838  1.2584512   0.81581617  0.        ]]\n"
     ]
    }
   ],
   "source": [
    "i = 2\n",
    "j = 3\n",
    "\n",
    "print(value[i,j])\n",
    "\n",
    "value[i,j] = transition_probability(1)*(reward_probability(states[i+1]) + value[i+1,j+1] - cost) + \\\n",
    "                                 transition_probability(-1)*(reward_probability(states[i-1]) + value[i-1,j+1] - cost)\n",
    "    \n",
    "print(value)"
   ]
  },
  {
   "cell_type": "code",
   "execution_count": 145,
   "metadata": {},
   "outputs": [
    {
     "data": {
      "text/plain": [
       "0"
      ]
     },
     "execution_count": 145,
     "metadata": {},
     "output_type": "execute_result"
    }
   ],
   "source": [
    "(1+1)%1"
   ]
  },
  {
   "cell_type": "code",
   "execution_count": 23,
   "metadata": {},
   "outputs": [
    {
     "data": {
      "text/plain": [
       "1"
      ]
     },
     "execution_count": 23,
     "metadata": {},
     "output_type": "execute_result"
    }
   ],
   "source": [
    "np.absolute(-1)"
   ]
  },
  {
   "cell_type": "code",
   "execution_count": null,
   "metadata": {},
   "outputs": [],
   "source": []
  }
 ],
 "metadata": {
  "kernelspec": {
   "display_name": "Python 3",
   "language": "python",
   "name": "python3"
  },
  "language_info": {
   "codemirror_mode": {
    "name": "ipython",
    "version": 3
   },
   "file_extension": ".py",
   "mimetype": "text/x-python",
   "name": "python",
   "nbconvert_exporter": "python",
   "pygments_lexer": "ipython3",
   "version": "3.7.3"
  }
 },
 "nbformat": 4,
 "nbformat_minor": 2
}

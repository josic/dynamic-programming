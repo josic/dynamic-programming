{
 "cells": [
  {
   "cell_type": "code",
   "execution_count": null,
   "metadata": {},
   "outputs": [],
   "source": [
    "import numpy as np\n",
    "from matplotlib import pyplot as plt\n",
    "\n",
    "#Define the amount to win. This is the same as the number of states\n",
    "trials = 10\n",
    "\n",
    "#Define tolerance\n",
    "theta = 1e-20\n",
    "\n",
    "\n",
    "state =  list(range(trials+1))\n",
    "\n",
    "initial_action = [0]*(win + 1)\n",
    "for i in states[1:win]:\n",
    "    initial_action[i] = 1"
   ]
  }
 ],
 "metadata": {
  "kernelspec": {
   "display_name": "Python 3",
   "language": "python",
   "name": "python3"
  },
  "language_info": {
   "codemirror_mode": {
    "name": "ipython",
    "version": 3
   },
   "file_extension": ".py",
   "mimetype": "text/x-python",
   "name": "python",
   "nbconvert_exporter": "python",
   "pygments_lexer": "ipython3",
   "version": "3.7.3"
  }
 },
 "nbformat": 4,
 "nbformat_minor": 2
}

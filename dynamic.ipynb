{
 "cells": [
  {
   "cell_type": "code",
   "execution_count": 33,
   "metadata": {},
   "outputs": [
    {
     "name": "stdout",
     "output_type": "stream",
     "text": [
      "0.2\n"
     ]
    }
   ],
   "source": [
    "import numpy as np\n",
    "import math \n",
    "from matplotlib import pyplot as plt\n",
    "\n",
    "#Define the number of trials and belief states.\n",
    "trials = 10\n",
    "num_states = 5\n",
    "\n",
    "#Define tolerance\n",
    "theta = 1e-20\n",
    "\n",
    "#other parameters\n",
    "alpha = 2\n",
    "\n",
    "states = np.arange(-10,10.1,20/num_states)\n",
    "\n",
    "initial_action = np.ones([num_states,trials])\n",
    "\n",
    "print(initial_action[0,1])\n",
    "\n",
    "def reward_probability(belief):\n",
    "    p = 1/(1+math.exp(-alpha*belief))\n",
    "    return p\n",
    "\n"
   ]
  },
  {
   "cell_type": "code",
   "execution_count": null,
   "metadata": {},
   "outputs": [],
   "source": [
    "def evaluate(action,states):\n",
    "    #Initialize values \n",
    "    value = 0.1*np.ones([num_states,trials])\n",
    "    \n",
    "    #Implement policy evaluation\n",
    "    substates = states[1:win]\n",
    "    Delta = 1\n",
    "   \n",
    "    while Delta > theta:\n",
    "        Delta = 0\n",
    "        for i in states[1:trials+1]:\n",
    "            val = value[i]\n",
    "            change = action[i]\n",
    "            #define reward\n",
    "            if i + change == win:\n",
    "                r = reward\n",
    "            else: \n",
    "                r = 0\n",
    "            value[i] = transition(i-change,r,i,action[i])*(value[i-change]) + transition(i+change,r,i,action[i])*(r + value[i+change])\n",
    "            Delta = max(Delta,abs(val - value[i]))\n",
    "    return value"
   ]
  }
 ],
 "metadata": {
  "kernelspec": {
   "display_name": "Python 3",
   "language": "python",
   "name": "python3"
  },
  "language_info": {
   "codemirror_mode": {
    "name": "ipython",
    "version": 3
   },
   "file_extension": ".py",
   "mimetype": "text/x-python",
   "name": "python",
   "nbconvert_exporter": "python",
   "pygments_lexer": "ipython3",
   "version": "3.7.3"
  }
 },
 "nbformat": 4,
 "nbformat_minor": 2
}
